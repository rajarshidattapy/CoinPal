{
 "cells": [
  {
   "cell_type": "code",
   "execution_count": 20,
   "id": "95b603ac-5442-4351-8eb9-d8fc8cd262e4",
   "metadata": {},
   "outputs": [
    {
     "name": "stdout",
     "output_type": "stream",
     "text": [
      "Kempegowda Bus Station, Dhanvanthari Road, Balepet, Gandhinagar, Bengaluru, Bangalore North, Bengaluru Urban, Karnataka, 560009, India\n"
     ]
    }
   ],
   "source": [
    "import ssl\n",
    "import certifi\n",
    "from geopy.geocoders import Nominatim\n",
    "from geopy.adapters import AioHTTPAdapter\n",
    "from geopy.exc import GeopyError\n",
    "\n",
    "# Custom context using certifi\n",
    "ssl_context = ssl.create_default_context(cafile=certifi.where())\n",
    "\n",
    "geolocator = Nominatim(user_agent=\"Finding location which supports Coinbase\", ssl_context=ssl_context)\n",
    "location = geolocator.geocode(\"Kempegowda Bus Station\", addressdetails=True)\n",
    "\n",
    "print(location)\n"
   ]
  },
  {
   "cell_type": "code",
   "execution_count": 44,
   "id": "a2637cb1-0e6e-426c-b08e-4716d2b0aad8",
   "metadata": {},
   "outputs": [
    {
     "name": "stdout",
     "output_type": "stream",
     "text": [
      "Region: National Capital Territory of Delhi\n",
      "Coinbase is supported in India\n"
     ]
    }
   ],
   "source": [
    "from requests import get\n",
    "ip = get('https://api.ipify.org').text\n",
    "\n",
    "response = get(f\"http://ip-api.com/json/{ip}\")\n",
    "data = response.json()\n",
    "\n",
    "region_name = data.get(\"regionName\", \"Unknown region\")\n",
    "\n",
    "print(\"Region:\", region_name)\n",
    "\n",
    "country = data.get(\"country\", \"\")\n",
    "\n",
    "if country==\"Singapore\":\n",
    "    print(f\"Coinbase is not supported in {country}\")\n",
    "else:\n",
    "    print(f\"Coinbase is supported in {country}\")"
   ]
  }
 ],
 "metadata": {
  "kernelspec": {
   "display_name": "Python 3 (ipykernel)",
   "language": "python",
   "name": "python3"
  },
  "language_info": {
   "codemirror_mode": {
    "name": "ipython",
    "version": 3
   },
   "file_extension": ".py",
   "mimetype": "text/x-python",
   "name": "python",
   "nbconvert_exporter": "python",
   "pygments_lexer": "ipython3",
   "version": "3.12.3"
  }
 },
 "nbformat": 4,
 "nbformat_minor": 5
}
